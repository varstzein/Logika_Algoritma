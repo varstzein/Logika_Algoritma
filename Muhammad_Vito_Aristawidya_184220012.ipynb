{
  "cells": [
    {
      "cell_type": "markdown",
      "metadata": {
        "id": "LYH_3vlvPyvy"
      },
      "source": [
        "*PANDAS CSV*\n",
        "\n",
        "\n",
        "\n",
        "\n"
      ]
    },
    {
      "cell_type": "code",
      "execution_count": null,
      "metadata": {
        "colab": {
          "base_uri": "https://localhost:8080/"
        },
        "id": "nOrNcQubP4sf",
        "outputId": "d106c5bb-987f-4261-a10b-f7adfb9534c8"
      },
      "outputs": [
        {
          "name": "stdout",
          "output_type": "stream",
          "text": [
            "          NPM                                           NAMA\n",
            "0   184220001                            Mhd. Haikal Baihaqi\n",
            "1   184220002                                Gilang Al-Raffi\n",
            "2   184220003                             Siti Salwa Azzahra\n",
            "3   184220004              Maria Bernadina B. Cintany Lustin\n",
            "4   184220005                        Muhamad Rafif Al-Hafizh\n",
            "5   184220007                             Paulina Bota Kolin\n",
            "6   184220008                            L.M.Aznur Syahfajar\n",
            "7   184220010                             Mylo Aleffa Rahman\n",
            "8   184220011                             Sabrina Nur Anisah\n",
            "9   184220012                      Muhammad Vito Aristawidya\n",
            "10  184220013                                Firna Ulfiani R\n",
            "11  184220015                    Muhammad Reefy Hidayatullah\n",
            "12  184220019                        Aulia Rahmadiva Wardana\n",
            "13  184220021                             Maysa Zaidee Aulia\n",
            "14  184220022                           NAUFAL PANJI PURNOMO\n",
            "15  184220023                Salsa Paringga Pangestu Ningsih\n",
            "16  184220024                             Nita Sawalia Fitri\n",
            "17  184220025  Christopher Damar Nugroho Amizeno Ranga Sogen\n",
            "18  184220026                           Fahriza Aulia Rahman\n",
            "19  184220027                                  Ridla Ashrina\n",
            "20  184220028                   Gabriella Mustika Anugraheni\n",
            "21  184220029                          Thiodas Heni Pakpahan\n",
            "22  184220030                               Aldi Daim Fauzan\n",
            "23  184220031                           NASYWA NUR HANDAYANI\n",
            "24  184220032                                          Yusuf\n",
            "25  184220033                      Raditio Ananto Hargiyanto\n"
          ]
        }
      ],
      "source": [
        "import pandas as pd\n",
        "data1 = pd.read_csv(\"Data Mahasiswa Kelas Sains Data .csv\")\n",
        "print(data1)"
      ]
    },
    {
      "cell_type": "markdown",
      "metadata": {
        "id": "DVTyy7-8SXz3"
      },
      "source": [
        "# Import Pandas DataFrame\n"
      ]
    },
    {
      "cell_type": "code",
      "execution_count": null,
      "metadata": {
        "colab": {
          "base_uri": "https://localhost:8080/"
        },
        "id": "V3s5TXAmdWgd",
        "outputId": "661a4a41-190e-460f-b5d5-60cc38ca7ba8"
      },
      "outputs": [
        {
          "name": "stdout",
          "output_type": "stream",
          "text": [
            "                                            Nama        NPM\n",
            "0                              M. Haikal Baihaqi  184220001\n",
            "1                                Gilang Al-Raffi  184220002\n",
            "2                             Siti Salwa Azzahra  184220003\n",
            "3               Maria Bernadina B. Citany Lustin  184220004\n",
            "4                        Muhamad Rafif Al-Hafizh  184220005\n",
            "5                             Paulina Bota Kolin  184220007\n",
            "6                             L.M Azur Syahfajar  184220008\n",
            "7                             Mylo Aleffa Rahman  184220010\n",
            "8                             Sabrina Nur Anisah  184220011\n",
            "9                     Muhammad Vito Arista Widya  184220012\n",
            "10                               Firna Ulfiani R  184220013\n",
            "11                   Muhammad Reefy Hidayatullah  184220015\n",
            "12                       Aulia Rahmadiva Wardana  184220019\n",
            "13                            Maysa Zaidee Aulia  184220021\n",
            "14                          NAUFAL PANJI PURNOMO  184220022\n",
            "15               Salsa Paringga Pangestu Ningsih  184220023\n",
            "16                            Nita Sawalia Fitri  184220024\n",
            "17  Christoper Damar Nugroho Amizeno Ranga Sogen  184220025\n",
            "18                          Fahriza Aulia Rahman  184220026\n",
            "19                                 Ridla Ashrina  184220027\n",
            "20                  Gabriella Mustika Anugraheni  184220028\n",
            "21                         Thiodas Heni Pakpahan  184220029\n",
            "22                              Aldi Daim Fuazan  184220030\n",
            "23                           NASYWA NUR HADAYANI  184220031\n",
            "24                                         Yusuf  184220032\n",
            "25                        Raditio Ananto Nugroho  184220033\n"
          ]
        }
      ],
      "source": [
        "import pandas as vt\n",
        "data = {\n",
        "    \"Nama\": [\"M. Haikal Baihaqi\",\"Gilang Al-Raffi\",\"Siti Salwa Azzahra\",\"Maria Bernadina B. Citany Lustin\",\"Muhamad Rafif Al-Hafizh\",\"Paulina Bota Kolin\",\"L.M Azur Syahfajar\",\"Mylo Aleffa Rahman\",\"Sabrina Nur Anisah\",\"Muhammad Vito Arista Widya\",\"Firna Ulfiani R\",\"Muhammad Reefy Hidayatullah\",\"Aulia Rahmadiva Wardana\",\"Maysa Zaidee Aulia\",\"NAUFAL PANJI PURNOMO\",\"Salsa Paringga Pangestu Ningsih\",\"Nita Sawalia Fitri\",\"Christoper Damar Nugroho Amizeno Ranga Sogen\",\"Fahriza Aulia Rahman\",\"Ridla Ashrina\",\"Gabriella Mustika Anugraheni\",\"Thiodas Heni Pakpahan\",\"Aldi Daim Fuazan\",\"NASYWA NUR HADAYANI\",\"Yusuf\",\"Raditio Ananto Nugroho\"],\n",
        "    \"NPM\" : [184220001,184220002,184220003,184220004 ,184220005,184220007,184220008,184220010,184220011,184220012,184220013,184220015,184220019,184220021,184220022,184220023,184220024,184220025,184220026,184220027,184220028,184220029,184220030,184220031,184220032,184220033]\n",
        "}\n",
        "var = vt.DataFrame(data)\n",
        "print(var)"
      ]
    },
    {
      "cell_type": "markdown",
      "metadata": {
        "id": "JmYqNLa1dsof"
      },
      "source": [
        "# Pandas Series"
      ]
    },
    {
      "cell_type": "code",
      "execution_count": null,
      "metadata": {
        "colab": {
          "base_uri": "https://localhost:8080/"
        },
        "id": "PY1NNWHGdwvt",
        "outputId": "00089c99-7889-444d-c20d-2741d803c9e1"
      },
      "outputs": [
        {
          "name": "stdout",
          "output_type": "stream",
          "text": [
            "0                                M. Haikal Baihaqi\n",
            "1                                  Gilang Al-Raffi\n",
            "2                               Siti Salwa Azzahra\n",
            "3                 Maria Bernadina B. Citany Lustin\n",
            "4                          Muhamad Rafif Al-Hafizh\n",
            "5                               Paulina Bota Kolin\n",
            "6                               L.M Azur Syahfajar\n",
            "7                               Mylo Aleffa Rahman\n",
            "8                               Sabrina Nur Anisah\n",
            "9                       Muhammad Vito Arista Widya\n",
            "10                                 Firna Ulfiani R\n",
            "11                     Muhammad Reefy Hidayatullah\n",
            "12                         Aulia Rahmadiva Wardana\n",
            "13                              Maysa Zaidee Aulia\n",
            "14                            NAUFAL PANJI PURNOMO\n",
            "15                 Salsa Paringga Pangestu Ningsih\n",
            "16                              Nita Sawalia Fitri\n",
            "17    Christoper Damar Nugroho Amizeno Ranga Sogen\n",
            "18                            Fahriza Aulia Rahman\n",
            "19                                   Ridla Ashrina\n",
            "20                    Gabriella Mustika Anugraheni\n",
            "21                           Thiodas Heni Pakpahan\n",
            "22                                Aldi Daim Fuazan\n",
            "23                             NASYWA NUR HADAYANI\n",
            "24                                           Yusuf\n",
            "25                          Raditio Ananto Nugroho\n",
            "dtype: object\n"
          ]
        }
      ],
      "source": [
        "import pandas as dt \n",
        "\n",
        "Nama = [\"M. Haikal Baihaqi\",\"Gilang Al-Raffi\",\"Siti Salwa Azzahra\",\"Maria Bernadina B. Citany Lustin\",\"Muhamad Rafif Al-Hafizh\",\"Paulina Bota Kolin\",\"L.M Azur Syahfajar\",\"Mylo Aleffa Rahman\",\"Sabrina Nur Anisah\",\"Muhammad Vito Arista Widya\",\"Firna Ulfiani R\",\"Muhammad Reefy Hidayatullah\",\"Aulia Rahmadiva Wardana\",\"Maysa Zaidee Aulia\",\"NAUFAL PANJI PURNOMO\",\"Salsa Paringga Pangestu Ningsih\",\"Nita Sawalia Fitri\",\"Christoper Damar Nugroho Amizeno Ranga Sogen\",\"Fahriza Aulia Rahman\",\"Ridla Ashrina\",\"Gabriella Mustika Anugraheni\",\"Thiodas Heni Pakpahan\",\"Aldi Daim Fuazan\",\"NASYWA NUR HADAYANI\",\"Yusuf\",\"Raditio Ananto Nugroho\"]\n",
        "\n",
        "var= dt.Series(Nama)\n",
        "print(var)"
      ]
    },
    {
      "cell_type": "code",
      "execution_count": null,
      "metadata": {
        "colab": {
          "base_uri": "https://localhost:8080/"
        },
        "id": "yeIEtBPueUuo",
        "outputId": "39724d5f-9b6f-4eb7-bf66-4c40de1f9caf"
      },
      "outputs": [
        {
          "name": "stdout",
          "output_type": "stream",
          "text": [
            "Sabrina Nur Anisah\n"
          ]
        }
      ],
      "source": [
        "print(var[8])"
      ]
    },
    {
      "cell_type": "code",
      "execution_count": null,
      "metadata": {
        "colab": {
          "base_uri": "https://localhost:8080/"
        },
        "id": "FuFX4-D8fT0n",
        "outputId": "0b2f8e3c-1433-49e1-d925-a598e18bdd72"
      },
      "outputs": [
        {
          "name": "stdout",
          "output_type": "stream",
          "text": [
            "a                               M. Haikal Baihaqi\n",
            "b                                 Gilang Al-Raffi\n",
            "c                              Siti Salwa Azzahra\n",
            "d                Maria Bernadina B. Citany Lustin\n",
            "e                         Muhamad Rafif Al-Hafizh\n",
            "f                              Paulina Bota Kolin\n",
            "g                              L.M Azur Syahfajar\n",
            "h                              Mylo Aleffa Rahman\n",
            "i                              Sabrina Nur Anisah\n",
            "j                      Muhammad Vito Arista Widya\n",
            "k                                 Firna Ulfiani R\n",
            "l                     Muhammad Reefy Hidayatullah\n",
            "m                         Aulia Rahmadiva Wardana\n",
            "n                              Maysa Zaidee Aulia\n",
            "o                            NAUFAL PANJI PURNOMO\n",
            "p                 Salsa Paringga Pangestu Ningsih\n",
            "q                              Nita Sawalia Fitri\n",
            "r    Christoper Damar Nugroho Amizeno Ranga Sogen\n",
            "s                            Fahriza Aulia Rahman\n",
            "t                                   Ridla Ashrina\n",
            "u                    Gabriella Mustika Anugraheni\n",
            "v                           Thiodas Heni Pakpahan\n",
            "w                                Aldi Daim Fuazan\n",
            "x                             NASYWA NUR HADAYANI\n",
            "y                                           Yusuf\n",
            "z                          Raditio Ananto Nugroho\n",
            "dtype: object\n"
          ]
        }
      ],
      "source": [
        "import pandas as dt \n",
        "\n",
        "Nama = [\"M. Haikal Baihaqi\",\"Gilang Al-Raffi\",\"Siti Salwa Azzahra\",\"Maria Bernadina B. Citany Lustin\",\"Muhamad Rafif Al-Hafizh\",\"Paulina Bota Kolin\",\"L.M Azur Syahfajar\",\"Mylo Aleffa Rahman\",\"Sabrina Nur Anisah\",\"Muhammad Vito Arista Widya\",\"Firna Ulfiani R\",\"Muhammad Reefy Hidayatullah\",\"Aulia Rahmadiva Wardana\",\"Maysa Zaidee Aulia\",\"NAUFAL PANJI PURNOMO\",\"Salsa Paringga Pangestu Ningsih\",\"Nita Sawalia Fitri\",\"Christoper Damar Nugroho Amizeno Ranga Sogen\",\"Fahriza Aulia Rahman\",\"Ridla Ashrina\",\"Gabriella Mustika Anugraheni\",\"Thiodas Heni Pakpahan\",\"Aldi Daim Fuazan\",\"NASYWA NUR HADAYANI\",\"Yusuf\",\"Raditio Ananto Nugroho\"]\n",
        "\n",
        "# membuat label pada data\n",
        "myvar = pd.Series(Nama, index = [\"a\",\"b\",\"c\",\"d\",\"e\",\"f\",\"g\",\"h\",\"i\",\"j\",\"k\",\"l\",\"m\",\"n\",\"o\",\"p\",\"q\",\"r\",\"s\",\"t\",\"u\",\"v\",\"w\",\"x\",\"y\",\"z\"])\n",
        "\n",
        "print(myvar)"
      ]
    },
    {
      "cell_type": "code",
      "execution_count": null,
      "metadata": {
        "colab": {
          "base_uri": "https://localhost:8080/"
        },
        "id": "AdWnP0d8flvU",
        "outputId": "875a70e4-ea26-4579-9cb4-0928298b2139"
      },
      "outputs": [
        {
          "name": "stdout",
          "output_type": "stream",
          "text": [
            "Paulina Bota Kolin\n"
          ]
        }
      ],
      "source": [
        "print(myvar['f'])"
      ]
    },
    {
      "cell_type": "markdown",
      "metadata": {
        "id": "pARKktQNfvwt"
      },
      "source": [
        "# Key/Value Object Series Pada Pandas"
      ]
    },
    {
      "cell_type": "code",
      "execution_count": null,
      "metadata": {
        "colab": {
          "base_uri": "https://localhost:8080/"
        },
        "id": "8Gl9qLcDf2ir",
        "outputId": "8666d9fa-359f-40b0-baaf-9b2fab9bd52c"
      },
      "outputs": [
        {
          "name": "stdout",
          "output_type": "stream",
          "text": [
            "M. Haikal Baihaqi                                1\n",
            "Gilang Al-Raffi                                  2\n",
            "Siti Salwa Azzahra                               3\n",
            "Maria Bernadina B. Citany Lustin                 4\n",
            "Muhamad Rafif Al-Hafizh                          5\n",
            "Paulina Bota Kolin                               6\n",
            "L.M Azur Syahfajar                               7\n",
            "Mylo Aleffa Rahman                               8\n",
            "Sabrina Nur Anisah                               9\n",
            "Muhammad Vito Arista Widya                      10\n",
            "Firna Ulfiani R                                 11\n",
            "Muhammad Reefy Hidayatullah                     12\n",
            "Aulia Rahmadiva Wardana                         13\n",
            "Maysa Zaidee Aulia                              14\n",
            "NAUFAL PANJI PURNOMO                            15\n",
            "Salsa Paringga Pangestu Ningsih                 16\n",
            "Nita Sawalia Fitri                              17\n",
            "Christoper Damar Nugroho Amizeno Ranga Sogen    18\n",
            "Fahriza Aulia Rahman                            19\n",
            "Ridla Ashrina                                   20\n",
            "Gabriella Mustika Anugraheni                    21\n",
            "Thiodas Heni Pakpahan                           22\n",
            "Aldi Daim Fuazan                                23\n",
            "NASYWA NUR HADAYANI                             24\n",
            "Yusuf                                           25\n",
            "Raditio Ananto Nugroho                          26\n",
            "dtype: int64\n"
          ]
        }
      ],
      "source": [
        "import pandas as vt\n",
        "\n",
        "Nama = { \n",
        "        \"M. Haikal Baihaqi\":1, \"Gilang Al-Raffi\":2, \"Siti Salwa Azzahra\":3, \"Maria Bernadina B. Citany Lustin\":4, \"Muhamad Rafif Al-Hafizh\":5, \"Paulina Bota Kolin\":6, \"L.M Azur Syahfajar\":7, \n",
        "        \"Mylo Aleffa Rahman\":8, \"Sabrina Nur Anisah\":9, \"Muhammad Vito Arista Widya\":10, \"Firna Ulfiani R\":11, \"Muhammad Reefy Hidayatullah\":12, \"Aulia Rahmadiva Wardana\":13, \"Maysa Zaidee Aulia\":14,\n",
        "        \"NAUFAL PANJI PURNOMO\":15, \"Salsa Paringga Pangestu Ningsih\":16, \"Nita Sawalia Fitri\":17, \"Christoper Damar Nugroho Amizeno Ranga Sogen\":18, \"Fahriza Aulia Rahman\":19, \"Ridla Ashrina\":20,\n",
        "        \"Gabriella Mustika Anugraheni\":21,\"Thiodas Heni Pakpahan\":22,\"Aldi Daim Fuazan\":23,\"NASYWA NUR HADAYANI\":24,\"Yusuf\":25,\"Raditio Ananto Nugroho\":26 \n",
        "        }\n",
        "myvar = vt.Series (Nama)\n",
        "print(myvar)"
      ]
    },
    {
      "cell_type": "code",
      "execution_count": null,
      "metadata": {
        "colab": {
          "base_uri": "https://localhost:8080/"
        },
        "id": "Hlt_vPb2hWuW",
        "outputId": "b562b226-119c-487e-b70f-92984a0c9928"
      },
      "outputs": [
        {
          "name": "stdout",
          "output_type": "stream",
          "text": [
            "Fahriza Aulia Rahman     19\n",
            "Ridla Ashrina            20\n",
            "Thiodas Heni Pakpahan    22\n",
            "dtype: int64\n"
          ]
        }
      ],
      "source": [
        "myvar = pd.Series(Nama, index = [\"Fahriza Aulia Rahman\", \"Ridla Ashrina\", \"Thiodas Heni Pakpahan\" ])\n",
        "print(myvar)"
      ]
    },
    {
      "cell_type": "markdown",
      "metadata": {
        "id": "QXLBeJQNiNSK"
      },
      "source": [
        "# Locate Row"
      ]
    },
    {
      "cell_type": "code",
      "execution_count": null,
      "metadata": {
        "colab": {
          "base_uri": "https://localhost:8080/"
        },
        "id": "sNjHmfVriQrp",
        "outputId": "0d465f5f-b95e-4b30-cf2e-39e091a768d6"
      },
      "outputs": [
        {
          "name": "stdout",
          "output_type": "stream",
          "text": [
            "                                            Nama        NPM\n",
            "0                              M. Haikal Baihaqi  184220001\n",
            "1                                Gilang Al-Raffi  184220002\n",
            "2                             Siti Salwa Azzahra  184220003\n",
            "3               Maria Bernadina B. Citany Lustin  184220004\n",
            "4                        Muhamad Rafif Al-Hafizh  184220005\n",
            "5                             Paulina Bota Kolin  184220007\n",
            "6                             L.M Azur Syahfajar  184220008\n",
            "7                             Mylo Aleffa Rahman  184220010\n",
            "8                             Sabrina Nur Anisah  184220011\n",
            "9                     Muhammad Vito Arista Widya  184220012\n",
            "10                               Firna Ulfiani R  184220013\n",
            "11                   Muhammad Reefy Hidayatullah  184220015\n",
            "12                       Aulia Rahmadiva Wardana  184220019\n",
            "13                            Maysa Zaidee Aulia  184220021\n",
            "14                          NAUFAL PANJI PURNOMO  184220022\n",
            "15               Salsa Paringga Pangestu Ningsih  184220023\n",
            "16                            Nita Sawalia Fitri  184220024\n",
            "17  Christoper Damar Nugroho Amizeno Ranga Sogen  184220025\n",
            "18                          Fahriza Aulia Rahman  184220026\n",
            "19                                 Ridla Ashrina  184220027\n",
            "20                  Gabriella Mustika Anugraheni  184220028\n",
            "21                         Thiodas Heni Pakpahan  184220029\n",
            "22                              Aldi Daim Fuazan  184220030\n",
            "23                           NASYWA NUR HADAYANI  184220031\n",
            "24                                         Yusuf  184220032\n",
            "25                        Raditio Ananto Nugroho  184220033\n"
          ]
        }
      ],
      "source": [
        "import pandas as vt\n",
        "data = {\n",
        "    \"Nama\": [\"M. Haikal Baihaqi\",\"Gilang Al-Raffi\",\"Siti Salwa Azzahra\",\"Maria Bernadina B. Citany Lustin\",\"Muhamad Rafif Al-Hafizh\",\"Paulina Bota Kolin\",\"L.M Azur Syahfajar\",\"Mylo Aleffa Rahman\",\"Sabrina Nur Anisah\",\"Muhammad Vito Arista Widya\",\"Firna Ulfiani R\",\"Muhammad Reefy Hidayatullah\",\"Aulia Rahmadiva Wardana\",\"Maysa Zaidee Aulia\",\"NAUFAL PANJI PURNOMO\",\"Salsa Paringga Pangestu Ningsih\",\"Nita Sawalia Fitri\",\"Christoper Damar Nugroho Amizeno Ranga Sogen\",\"Fahriza Aulia Rahman\",\"Ridla Ashrina\",\"Gabriella Mustika Anugraheni\",\"Thiodas Heni Pakpahan\",\"Aldi Daim Fuazan\",\"NASYWA NUR HADAYANI\",\"Yusuf\",\"Raditio Ananto Nugroho\"],\n",
        "    \"NPM\" : [184220001,184220002,184220003,184220004 ,184220005,184220007,184220008,184220010,184220011,184220012,184220013,184220015,184220019,184220021,184220022,184220023,184220024,184220025,184220026,184220027,184220028,184220029,184220030,184220031,184220032,184220033]\n",
        "}\n",
        "var = vt.DataFrame(data)\n",
        "dt = pd.DataFrame(data)\n",
        "\n",
        "print(var)\n"
      ]
    },
    {
      "cell_type": "code",
      "execution_count": null,
      "metadata": {
        "colab": {
          "base_uri": "https://localhost:8080/"
        },
        "id": "YDUCAWp8i7xy",
        "outputId": "b9cfc0db-81c8-4c53-9272-2a23c7831c89"
      },
      "outputs": [
        {
          "name": "stdout",
          "output_type": "stream",
          "text": [
            "Nama    Muhammad Vito Arista Widya\n",
            "NPM                      184220012\n",
            "Name: 9, dtype: object\n"
          ]
        }
      ],
      "source": [
        "print(dt.loc[9])\n",
        "# mengeluarkan output yang ditunjuk melalui indeks baris"
      ]
    },
    {
      "cell_type": "code",
      "execution_count": null,
      "metadata": {
        "colab": {
          "base_uri": "https://localhost:8080/"
        },
        "id": "V63ar2Y4jaOO",
        "outputId": "13bff167-df36-493d-b8b8-d08f5180ac38"
      },
      "outputs": [
        {
          "name": "stdout",
          "output_type": "stream",
          "text": [
            "                          Nama        NPM\n",
            "9   Muhammad Vito Arista Widya  184220012\n",
            "18        Fahriza Aulia Rahman  184220026\n",
            "22            Aldi Daim Fuazan  184220030\n"
          ]
        }
      ],
      "source": [
        "print(dt.loc[[9,18,22]])\n",
        "# mengeluarkan output yang ditunjuk dengan daftar indeks"
      ]
    },
    {
      "cell_type": "markdown",
      "metadata": {
        "id": "JhWtcA8ikKSy"
      },
      "source": [
        "# Load File To Data Frame\n",
        "\n"
      ]
    },
    {
      "cell_type": "code",
      "execution_count": 34,
      "metadata": {
        "colab": {
          "base_uri": "https://localhost:8080/"
        },
        "id": "7yrrjn1AkOnP",
        "outputId": "bb5975b0-7425-4671-bb30-53dd584cc2cb"
      },
      "outputs": [
        {
          "name": "stdout",
          "output_type": "stream",
          "text": [
            "          NPM                                           NAMA  ASAL\n",
            "0   184220001                            Mhd. Haikal Baihaqi   NaN\n",
            "1   184220002                                Gilang Al-Raffi   NaN\n",
            "2   184220003                             Siti Salwa Azzahra   NaN\n",
            "3   184220004              Maria Bernadina B. Cintany Lustin   NaN\n",
            "4   184220005                        Muhamad Rafif Al-Hafizh   NaN\n",
            "5   184220007                             Paulina Bota Kolin   NaN\n",
            "6   184220008                            L.M.Aznur Syahfajar   NaN\n",
            "7   184220010                             Mylo Aleffa Rahman   NaN\n",
            "8   184220011                             Sabrina Nur Anisah   NaN\n",
            "9   184220012                      Muhammad Vito Aristawidya   NaN\n",
            "10  184220013                                Firna Ulfiani R   NaN\n",
            "11  184220015                    Muhammad Reefy Hidayatullah   NaN\n",
            "12  184220019                        Aulia Rahmadiva Wardana   NaN\n",
            "13  184220021                             Maysa Zaidee Aulia   NaN\n",
            "14  184220022                           NAUFAL PANJI PURNOMO   NaN\n",
            "15  184220023                Salsa Paringga Pangestu Ningsih   NaN\n",
            "16  184220024                             Nita Sawalia Fitri   NaN\n",
            "17  184220025  Christopher Damar Nugroho Amizeno Ranga Sogen   NaN\n",
            "18  184220026                           Fahriza Aulia Rahman   NaN\n",
            "19  184220027                                  Ridla Ashrina   NaN\n",
            "20  184220028                   Gabriella Mustika Anugraheni   NaN\n",
            "21  184220029                          Thiodas Heni Pakpahan   NaN\n",
            "22  184220030                               Aldi Daim Fauzan   NaN\n",
            "23  184220031                           NASYWA NUR HANDAYANI   NaN\n",
            "24  184220032                                          Yusuf   NaN\n",
            "25  184220033                      Raditio Ananto Hargiyanto   NaN\n"
          ]
        }
      ],
      "source": [
        "# Memasukkan file ke dataframe\n",
        "import pandas as pd\n",
        "# Membaca File CSV\n",
        "data1 = pd.read_csv(\"Data Mahasiswa Kelas Sains Data .csv\")\n",
        "print(data1)"
      ]
    },
    {
      "cell_type": "code",
      "execution_count": 37,
      "metadata": {
        "colab": {
          "base_uri": "https://localhost:8080/"
        },
        "id": "T7dl1D_7l5Ka",
        "outputId": "5d6bcbdd-1db2-4011-dfb3-a2c04e657667"
      },
      "outputs": [
        {
          "name": "stdout",
          "output_type": "stream",
          "text": [
            "<bound method DataFrame.to_string of           NPM                                           NAMA  ASAL\n",
            "0   184220001                            Mhd. Haikal Baihaqi   NaN\n",
            "1   184220002                                Gilang Al-Raffi   NaN\n",
            "2   184220003                             Siti Salwa Azzahra   NaN\n",
            "3   184220004              Maria Bernadina B. Cintany Lustin   NaN\n",
            "4   184220005                        Muhamad Rafif Al-Hafizh   NaN\n",
            "5   184220007                             Paulina Bota Kolin   NaN\n",
            "6   184220008                            L.M.Aznur Syahfajar   NaN\n",
            "7   184220010                             Mylo Aleffa Rahman   NaN\n",
            "8   184220011                             Sabrina Nur Anisah   NaN\n",
            "9   184220012                      Muhammad Vito Aristawidya   NaN\n",
            "10  184220013                                Firna Ulfiani R   NaN\n",
            "11  184220015                    Muhammad Reefy Hidayatullah   NaN\n",
            "12  184220019                        Aulia Rahmadiva Wardana   NaN\n",
            "13  184220021                             Maysa Zaidee Aulia   NaN\n",
            "14  184220022                           NAUFAL PANJI PURNOMO   NaN\n",
            "15  184220023                Salsa Paringga Pangestu Ningsih   NaN\n",
            "16  184220024                             Nita Sawalia Fitri   NaN\n",
            "17  184220025  Christopher Damar Nugroho Amizeno Ranga Sogen   NaN\n",
            "18  184220026                           Fahriza Aulia Rahman   NaN\n",
            "19  184220027                                  Ridla Ashrina   NaN\n",
            "20  184220028                   Gabriella Mustika Anugraheni   NaN\n",
            "21  184220029                          Thiodas Heni Pakpahan   NaN\n",
            "22  184220030                               Aldi Daim Fauzan   NaN\n",
            "23  184220031                           NASYWA NUR HANDAYANI   NaN\n",
            "24  184220032                                          Yusuf   NaN\n",
            "25  184220033                      Raditio Ananto Hargiyanto   NaN>\n"
          ]
        }
      ],
      "source": [
        "import pandas as pd\n",
        "df = pd.read_csv(\"/content/Data Mahasiswa Kelas Sains Data .csv\")\n",
        "print(df.to_string)"
      ]
    }
  ],
  "metadata": {
    "colab": {
      "provenance": []
    },
    "kernelspec": {
      "display_name": "Python 3",
      "name": "python3"
    },
    "language_info": {
      "name": "python"
    }
  },
  "nbformat": 4,
  "nbformat_minor": 0
}
